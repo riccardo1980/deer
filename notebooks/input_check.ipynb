{
 "metadata": {
  "language_info": {
   "codemirror_mode": {
    "name": "ipython",
    "version": 3
   },
   "file_extension": ".py",
   "mimetype": "text/x-python",
   "name": "python",
   "nbconvert_exporter": "python",
   "pygments_lexer": "ipython3",
   "version": "3.7.3-final"
  },
  "orig_nbformat": 2,
  "kernelspec": {
   "name": "python373jvsc74a57bd0c3b3477b6868e90e11dcbd59a1675846cbaf9059aabcf4243fe25ef4fa2d4910",
   "display_name": "Python 3.7.3 64-bit ('deer': virtualenv)",
   "language": "python"
  }
 },
 "nbformat": 4,
 "nbformat_minor": 2,
 "cells": [
  {
   "source": [
    "# define input requirements\n",
    "- format: UTF-8\n",
    "- line termination: CRLF"
   ],
   "cell_type": "markdown",
   "metadata": {}
  },
  {
   "cell_type": "code",
   "execution_count": 1,
   "metadata": {},
   "outputs": [],
   "source": [
    "import sys\n",
    "sys.path.append('../')"
   ]
  },
  {
   "cell_type": "code",
   "execution_count": 2,
   "metadata": {},
   "outputs": [],
   "source": [
    "import deer.preprocessing as prep"
   ]
  },
  {
   "cell_type": "code",
   "execution_count": 1,
   "metadata": {},
   "outputs": [],
   "source": [
    "input_files = [\n",
    "    '../tests/data/check_format/ok/test1.txt',                # utf-8      with CRLF\n",
    "    '../tests/data/check_format/error/ISO-8859_CRLF_NEL.txt', # iso-8859-1 with CRLF\n",
    "    '../tests/data/check_format/error/UTF-8_LF.txt',          # utf-8      with LF\n",
    "    '../tests/data/check_format/error/UTF-8_LF_NEL.txt'       # utf-8      with LF, NEL\n",
    "]"
   ]
  },
  {
   "cell_type": "code",
   "execution_count": 3,
   "metadata": {
    "tags": []
   },
   "outputs": [
    {
     "output_type": "stream",
     "name": "stdout",
     "text": [
      "candidate: ../tests/data/check_format/ok/test1.txt \tOK\ncandidate: ../tests/data/check_format/error/ISO-8859_CRLF_NEL.txt \tnot a valid format\ncandidate: ../tests/data/check_format/error/UTF-8_LF.txt \t<b'i\\n'>\tnot a valid terminator\ncandidate: ../tests/data/check_format/error/UTF-8_LF_NEL.txt \t<b':\\n'>\tnot a valid terminator\n"
     ]
    }
   ],
   "source": [
    "for input_file in input_files:\n",
    "    print('candidate: {} '.format(input_file), end = '')\n",
    "    try:\n",
    "        prep.check_dataset(input_file)\n",
    "    except AssertionError as e:\n",
    "        print('\\t'+str(e))\n",
    "    else:\n",
    "        print('\\tOK')\n"
   ]
  },
  {
   "cell_type": "code",
   "execution_count": 4,
   "metadata": {},
   "outputs": [],
   "source": [
    "# do a proper file version\n",
    "# input_file = '../data/DATASETS/DANTE_DIVINA_COMMEDIA/data.txt'\n",
    "# output_file = '../data/DATASETS/DANTE_DIVINA_COMMEDIA/data.txt2'\n",
    "\n",
    "def convert_endline(output_file: str, input_file: str, newline='\\r\\n'):\n",
    "    with open(input_file, newline=None) as input_stream:\n",
    "        with open(output_file, 'w', newline='\\r\\n') as output_stream:\n",
    "            for line in input_stream:\n",
    "                output_stream.write(line)"
   ]
  },
  {
   "cell_type": "code",
   "execution_count": 5,
   "metadata": {},
   "outputs": [],
   "source": [
    "# testme = '../data/DATASETS/SDH/data.txt'\n",
    "# testme = '../data/DATASETS/DANTE_DIVINA_COMMEDIA/data.txt'\n",
    "# testme = '../data/DATASETS/DANTE_DIVINA_COMMEDIA/UTF-8_NEL.txt'\n",
    "# testme = '../data/DATASETS/SDH/UTF-8_LF.txt'\n",
    "testme = '../tests/data/check_format/error/UTF-8_LF_NEL.txt'\n",
    "from collections import Counter\n",
    "\n",
    "# universal line mode is enabled, but newline is returned untranslated\n",
    "with open(testme, newline='') as input_stream:\n",
    "    data = input_stream.read()\n",
    "res = Counter(data)"
   ]
  },
  {
   "cell_type": "code",
   "execution_count": 6,
   "metadata": {},
   "outputs": [
    {
     "output_type": "stream",
     "name": "stdout",
     "text": [
      "<b'\\n'>: 11\n<b'\\r'>: None\n<b'\\r\\n'>: None\n<b'\\xc2\\x85'>: 1\n"
     ]
    }
   ],
   "source": [
    "term_options = ['\\n', '\\r', '\\r\\n', '\\x85']\n",
    "\n",
    "for term in term_options:\n",
    "    print('<{}>: {}'.format(term.encode('utf-8'), res.get(term)))"
   ]
  },
  {
   "cell_type": "code",
   "execution_count": 7,
   "metadata": {
    "tags": []
   },
   "outputs": [
    {
     "output_type": "stream",
     "name": "stdout",
     "text": [
      "305: b'\\xc2\\x85'\n"
     ]
    }
   ],
   "source": [
    "for ii, cc in enumerate(data):\n",
    "    if cc == '\\x85':\n",
    "        print('{}: {}'.format(ii, cc.encode('utf-8')))"
   ]
  },
  {
   "cell_type": "code",
   "execution_count": 8,
   "metadata": {},
   "outputs": [
    {
     "output_type": "stream",
     "name": "stdout",
     "text": [
      "Counter({' ': 77,\n         'i': 42,\n         'o': 38,\n         'e': 31,\n         'a': 30,\n         'n': 29,\n         'd': 22,\n         'l': 18,\n         'u': 15,\n         't': 15,\n         'c': 15,\n         's': 14,\n         'r': 12,\n         '\\n': 11,\n         'm': 9,\n         'p': 8,\n         'v': 8,\n         'z': 6,\n         \"'\": 6,\n         'g': 5,\n         ',': 5,\n         ':': 4,\n         'f': 4,\n         '«': 3,\n         'h': 3,\n         '»': 3,\n         'ú': 2,\n         '.': 2,\n         'ò': 2,\n         'S': 1,\n         ';': 1,\n         'O': 1,\n         'M': 1,\n         'q': 1,\n         '!': 1,\n         '\\x85': 1,\n         'E': 1,\n         'P': 1,\n         'é': 1,\n         '?': 1,\n         'N': 1,\n         'í': 1,\n         'à': 1})\n"
     ]
    }
   ],
   "source": [
    "from pprint import PrettyPrinter\n",
    "pp = PrettyPrinter()\n",
    "pp.pprint(res)"
   ]
  },
  {
   "cell_type": "code",
   "execution_count": 11,
   "metadata": {},
   "outputs": [
    {
     "output_type": "execute_result",
     "data": {
      "text/plain": [
       "b\"'entrare!\\xc2\\xbb\\xc2\\x85E 'l duca\""
      ]
     },
     "metadata": {},
     "execution_count": 11
    }
   ],
   "source": [
    "data[295:315].encode('utf-8')"
   ]
  },
  {
   "cell_type": "code",
   "execution_count": null,
   "metadata": {},
   "outputs": [],
   "source": []
  }
 ]
}